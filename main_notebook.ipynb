{
 "cells": [
  {
   "cell_type": "code",
   "execution_count": 54,
   "metadata": {},
   "outputs": [],
   "source": [
    "import numpy as np\n",
    "from math import*\n",
    "import numpy as np\n",
    "import pickle\n",
    "import matplotlib.pyplot as plt\n",
    "import control.matlab as cm\n"
   ]
  },
  {
   "cell_type": "code",
   "execution_count": 55,
   "metadata": {},
   "outputs": [],
   "source": [
    "# Filename:  cit2s.m\n",
    "\n",
    "# Calculation of state matrix and input matrix for calculation\n",
    "# of symmetric aircraft response to atmospheric turbulence.\n",
    "# The system model is in the form\n",
    "\n",
    "#       .\n",
    "#       x = Ax + Bu\n",
    "#       -    -    -\n",
    "\n",
    "# with\n",
    "#     x = [u/V alpha theta qc/V u_g/V alpha_g alpha_g*]'\n",
    "# and\n",
    "#     u = [delta_e w_1 w_3]'.\n",
    "\n",
    "# The turbulence filters are according to Dryden.\n",
    "\n",
    "# Cessna Citation Ce-500, landing (1)\n",
    "\n",
    "# Checked MM June 2021 - Python version by B. Englebert (July 2021)\n",
    "\n",
    "# INPUT TURBULENCE- AND AIRCRAFT PARAMETERS\n",
    "\n",
    "\n",
    "\n",
    "\n",
    "V = 189.6\n",
    "m = 5445\n",
    "twmuc = 2*147\n",
    "KY2 = 0.950\n",
    "c = 2.022\n",
    "S = 24.2\n",
    "lh = 5.5\n",
    "\n",
    "xcg = 0.3 * c\n",
    "W = 53361\n",
    "b = 13.36\n",
    "h = 6096\n",
    "rho = 0.6528\n",
    "mub = 22\n",
    "muc = 157\n",
    "KX2 = 0.013\n",
    "KZ2 = 0.037\n",
    "KXZ = 0.002\n",
    "\n",
    "# TURBULENCE PARAMETERS\n",
    "sigma = 2\n",
    "Lg = 150\n",
    "sigmaug_V = sigma/V\n",
    "sigmaag = sigma/V\n",
    "\n",
    "# AIRCRAFT SYMMETRIC AERODYNAMIC DERIVATIVES :\n",
    "CX0 = 0.0000\n",
    "CZ0 = -0.1620\n",
    "Cm0 = 0.0000\n",
    "CXu = -0.0600\n",
    "CZu = -0.3240\n",
    "Cmu = 0.0000\n",
    "CXa = 0.0545\n",
    "CZa = -5.8000\n",
    "Cma = -0.5350\n",
    "CXq = 0.0000\n",
    "CZq = -4.3800\n",
    "Cmq = -8.0000\n",
    "CXd = 0.0000\n",
    "CZd = -0.5798\n",
    "Cmd = -1.4440\n",
    "CXfa = 0.0000\n",
    "CZfa = -1.8300\n",
    "Cmfa = -4.7500\n",
    "CZfug = 0.0000\n",
    "Cmfug = -Cm0*lh/c\n",
    "CZfag = CZfa-CZq\n",
    "Cmfag = Cmfa-Cmq\n",
    "\n",
    "# CALCULATION OF AIRCRAFT SYMMETRIC STABILITY DERIVATIVES\n",
    "xu = (V/c)*(CXu/twmuc)\n",
    "xa = (V/c)*(CXa/twmuc)\n",
    "xt = (V/c)*(CZ0/twmuc)\n",
    "xq = 0\n",
    "xd = (V/c)*(CXd/twmuc)\n",
    "xug = xu\n",
    "xfug = 0\n",
    "xag = xa\n",
    "xfag = 0\n",
    "\n",
    "zu = (V/c)*(CZu/(twmuc-CZfa))\n",
    "za = (V/c)*(CZa/(twmuc-CZfa))\n",
    "zt = (V/c)*(-CX0/(twmuc-CZfa))\n",
    "zq = (V/c)*((CZq+twmuc)/(twmuc-CZfa))\n",
    "zd = (V/c)*(CZd/(twmuc-CZfa))\n",
    "zug = zu\n",
    "zfug = (V/c)*(CZfug/(twmuc-CZfa))\n",
    "zag = za\n",
    "zfag = (V/c)*(CZfag/(twmuc-CZfa))\n",
    "\n",
    "mu = (V/c)*((Cmu+CZu*Cmfa/(twmuc-CZfa))/(twmuc*KY2))\n",
    "ma = (V/c)*((Cma+CZa*Cmfa/(twmuc-CZfa))/(twmuc*KY2))\n",
    "mt = (V/c)*((-CX0*Cmfa/(twmuc-CZfa))/(twmuc*KY2))\n",
    "mq = (V/c)*(Cmq+Cmfa*(twmuc+CZq)/(twmuc-CZfa))/(twmuc*KY2)\n",
    "md = (V/c)*((Cmd+CZd*Cmfa/(twmuc-CZfa))/(twmuc*KY2))\n",
    "mug = mu\n",
    "mfug = (V/c)*(Cmfug+CZfug*Cmfa/(twmuc-CZfa))/(twmuc*KY2)\n",
    "mag = ma\n",
    "mfag = (V/c)*(Cmfag+CZfag*Cmfa/(twmuc-CZfa))/(twmuc*KY2)\n",
    "\n",
    "# STATE- AND INPUT MATRICES\n",
    "A = np.mat([[xu, xa, xt, 0,    xug,                  xag,       0],\n",
    "            [zu, za, zt, zq,   zug-zfug*V/Lg *\n",
    "                (c/V),  zag,       zfag*(c/V)],\n",
    "            [0,  0,  0,  V/c,  0,                    0,         0],\n",
    "            [mu, ma, mt, mq,   mug-mfug*V/Lg *\n",
    "                (c/V),  mag,       mfag*(c/V)],\n",
    "            [0,  0,  0,  0,   -V/Lg,                 0,         0],\n",
    "            [0,  0,  0,  0,    0,                    0,         1],\n",
    "            [0,  0,  0,  0,    0,                   -(V/Lg)**2, -2*V/Lg]])\n",
    "\n",
    "B = np.mat([[xd, 0,                                 0],\n",
    "            [zd, zfug*(c/V)*sigmaug_V*sqrt(2*V/Lg),\n",
    "            zfag*(c/V)*sigmaag*sqrt(3*V/Lg)],\n",
    "            [0,  0,                                 0],\n",
    "            [md, mfug*(c/V)*sigmaug_V*sqrt(2*V/Lg),\n",
    "            mfag*(c/V)*sigmaag*sqrt(3*V/Lg)],\n",
    "            [0,  sigmaug_V*sqrt(2*V/Lg),            0],\n",
    "            [0,  0,\n",
    "                sigmaag*sqrt(3*V/Lg)],\n",
    "            [0,  0,                                 (1-2*sqrt(3))*sigmaag*sqrt((V/Lg)**3)]])\n",
    "\n",
    "C = np.eye(A.shape[0])\n",
    "D = np.zeros(B.shape)\n",
    "\n",
    "\n",
    "# # GAIN FACTORS FOR AUTOPILOT CHAPTER 7 AND DEFINITION OF MATRIX At\n",
    "# # (approximately \"Dead Beat\" damping)\n",
    "# Kt = -0.21\n",
    "# Kq = -3      # gains on \"theta\" and \"q\"\n",
    "# K = np.array([0, 0, Kt, Kq, 0, 0, 0])  # feedback matrix\n",
    "# At = A-B[:, 0]*K         # new A matrix = (A - BK) because of feedback\n"
   ]
  },
  {
   "cell_type": "code",
   "execution_count": 56,
   "metadata": {},
   "outputs": [],
   "source": [
    "Ar = np.delete(np.delete(A, [0, 2], axis=0), [0, 2], axis=1)\n",
    "Br = np.delete(B, [0, 2], axis=0)\n",
    "Cr = np.delete(np.delete(C, [0, 2], axis=0), [0, 2], axis=1)\n",
    "Dr = np.delete(D, [0, 2], axis=0)\n"
   ]
  },
  {
   "cell_type": "code",
   "execution_count": 57,
   "metadata": {},
   "outputs": [
    {
     "name": "stdout",
     "output_type": "stream",
     "text": [
      "(5, 5)\n",
      "(5, 3)\n",
      "(5, 5)\n",
      "(5, 3)\n"
     ]
    }
   ],
   "source": [
    "print(Ar.shape)\n",
    "print(Br.shape)\n",
    "print(Cr.shape)\n",
    "print(Dr.shape)"
   ]
  },
  {
   "cell_type": "code",
   "execution_count": 59,
   "metadata": {},
   "outputs": [],
   "source": [
    "sys = cm.ss(A, B, C, D)\n",
    "sysr = cm.ss(Ar, Br, Cr, Dr)\n"
   ]
  },
  {
   "cell_type": "code",
   "execution_count": 60,
   "metadata": {},
   "outputs": [
    {
     "name": "stdout",
     "output_type": "stream",
     "text": [
      "_____Eigenvalue______ Damping___ Frequency_\n",
      "    -3.043    +3.488j     0.6574      4.629\n",
      "    -3.043    -3.488j     0.6574      4.629\n",
      " -0.009285  +0.06391j     0.1438    0.06458\n",
      " -0.009285  -0.06391j     0.1438    0.06458\n",
      "    -1.264                     1      1.264\n",
      "    -1.264                     1      1.264\n",
      "    -1.264                     1      1.264\n",
      "_____Eigenvalue______ Damping___ Frequency_\n",
      "    -3.043    +3.488j     0.6573      4.629\n",
      "    -3.043    -3.488j     0.6573      4.629\n",
      "    -1.264                     1      1.264\n",
      "    -1.264                     1      1.264\n",
      "    -1.264                     1      1.264\n"
     ]
    },
    {
     "data": {
      "text/plain": [
       "(array([4.62884742, 4.62884742, 1.264     , 1.264     , 1.264     ]),\n",
       " array([0.65734029, 0.65734029, 1.        , 1.        , 1.        ]),\n",
       " array([-3.04272792+3.48827109j, -3.04272792-3.48827109j,\n",
       "        -1.264     +0.j        , -1.264     +0.j        ,\n",
       "        -1.264     +0.j        ]))"
      ]
     },
     "execution_count": 60,
     "metadata": {},
     "output_type": "execute_result"
    }
   ],
   "source": [
    "# damping ratio and natural frequency\n",
    "cm.damp(sys)\n",
    "\n",
    "cm.damp(sysr)"
   ]
  },
  {
   "cell_type": "code",
   "execution_count": 63,
   "metadata": {},
   "outputs": [
    {
     "data": {
      "image/png": "[encoded data removed]",
      "text/plain": [
       "<Figure size 432x288 with 1 Axes>"
      ]
     },
     "metadata": {
      "needs_background": "light"
     },
     "output_type": "display_data"
    },
    {
     "data": {
      "image/png": "[encoded data removed]",
      "text/plain": [
       "<Figure size 432x288 with 1 Axes>"
      ]
     },
     "metadata": {
      "needs_background": "light"
     },
     "output_type": "display_data"
    },
    {
     "data": {
      "image/png": "[encoded data removed]",
      "text/plain": [
       "<Figure size 432x288 with 1 Axes>"
      ]
     },
     "metadata": {
      "needs_background": "light"
     },
     "output_type": "display_data"
    },
    {
     "data": {
      "image/png": "[encoded data removed]",
      "text/plain": [
       "<Figure size 432x288 with 1 Axes>"
      ]
     },
     "metadata": {
      "needs_background": "light"
     },
     "output_type": "display_data"
    }
   ],
   "source": [
    "\n",
    "# elevator step response\n",
    "yout, T = cm.step(sys, T=np.linspace(0, 10, 2000),  input=0)\n",
    "\n",
    "# plot step response of 2nd state\n",
    "plt.figure(2)\n",
    "plt.plot(T, yout[:, 1])\n",
    "plt.title('Elevator Step Response')\n",
    "plt.xlabel('Time [s]')\n",
    "plt.ylabel('alpha [deg]')\n",
    "plt.grid()\n",
    "plt.show()\n",
    "\n",
    "plt.figure(3)\n",
    "plt.plot(T, yout[:, 3])\n",
    "plt.title('Elevator Step Response')\n",
    "plt.xlabel('Time [s]')\n",
    "plt.ylabel('qc/V [deg]')\n",
    "plt.grid()\n",
    "plt.show()\n",
    "\n",
    "# plot eigenvalues of A matrix\n",
    "plt.figure(0)\n",
    "plt.plot(np.real(eigA), np.imag(eigA), 'x')\n",
    "plt.title('Pole Zero Map of Full State Space Model')\n",
    "plt.xlabel('Real')\n",
    "plt.ylabel('Imaginary')\n",
    "plt.grid()\n",
    "plt.show()\n",
    "# plot eigenvalues of Ar matrix\n",
    "plt.figure(1)\n",
    "plt.plot(np.real(eigAr), np.imag(eigAr), 'x')\n",
    "plt.title('Pole Zero Map of Reduced State Space Model')\n",
    "plt.xlabel('Real')\n",
    "plt.ylabel('Imaginary')\n",
    "plt.grid()\n",
    "plt.show()\n"
   ]
  }
 ],
 "metadata": {
  "kernelspec": {
   "display_name": "tf_cpu",
   "language": "python",
   "name": "python3"
  },
  "language_info": {
   "codemirror_mode": {
    "name": "ipython",
    "version": 3
   },
   "file_extension": ".py",
   "mimetype": "text/x-python",
   "name": "python",
   "nbconvert_exporter": "python",
   "pygments_lexer": "ipython3",
   "version": "3.9.7"
  },
  "orig_nbformat": 4,
  "vscode": {
   "interpreter": {
    "hash": "c787a08491dcdbfffe458afac131a89c5dc65d7591e57c155dcecfdeb67d0cb5"
   }
  }
 },
 "nbformat": 4,
 "nbformat_minor": 2
}
